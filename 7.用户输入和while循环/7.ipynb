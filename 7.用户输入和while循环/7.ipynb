{
 "cells": [
  {
   "cell_type": "code",
   "execution_count": 5,
   "metadata": {},
   "outputs": [
    {
     "name": "stdout",
     "output_type": "stream",
     "text": [
      "Please enter a pizza toppings quit\n"
     ]
    }
   ],
   "source": [
    "#7-4 编写一个循环，提示用户输入一系列的比萨配料。并在用户输入'quit'之后退出循环。每当用户输入一种配料后，都打印一条信息，说我们会在比萨中增加这种配料\n",
    "prompt = 'Please enter a pizza toppings '\n",
    "\n",
    "active = True\n",
    "while active:\n",
    "    topping = input(prompt)\n",
    "    if topping == 'quit':\n",
    "        active = False\n",
    "    else:\n",
    "        print('We will add the '+ topping + ' into the pizza')"
   ]
  },
  {
   "cell_type": "code",
   "execution_count": 4,
   "metadata": {},
   "outputs": [
    {
     "name": "stdout",
     "output_type": "stream",
     "text": [
      "How old are you ?1\n",
      "You can get in for free\n",
      "How old are you ?2\n",
      "You can get in for free\n",
      "How old are you ?4\n",
      "Your ticket price is 12\n",
      "How old are you ?0\n"
     ]
    }
   ],
   "source": [
    "#7-5 有家电影院根据观众的年龄收取不同的票价：不到三岁的观众免费；3-12岁的观众为10美元；超过12岁的观众为15美元。请编写一个循环，在其中询问用户的年龄，并指出其票价\n",
    "prompt = 'How old are you ?'\n",
    "\n",
    "active = True\n",
    "while active:\n",
    "    age = int(input(prompt))\n",
    "    if age == 0:\n",
    "        active = False\n",
    "    elif age > 0 and age <= 3:\n",
    "        print('You can get in for free')\n",
    "    elif age > 3 and age <= 12 :\n",
    "        print('Your ticket price is 12')\n",
    "    else:\n",
    "        print('Your ticket price is 15')"
   ]
  },
  {
   "cell_type": "code",
   "execution_count": 6,
   "metadata": {},
   "outputs": [
    {
     "name": "stdout",
     "output_type": "stream",
     "text": [
      "I made your C sandwich\n",
      "I made your B sandwich\n",
      "I made your A sandwich\n",
      "['C', 'B', 'A']\n"
     ]
    }
   ],
   "source": [
    "#7-8 创建一个名为sandwich_orders 的列表，在其中包含各种三明治的名字；再创建一个名为finished_sandwiches的空列表。遍历列表sandwich_orders，对于其中的每种三明治，都打印一条消息，如I made your tuna sandwich,并将其移到列表finished_sandwichs。所有三明治都制作好后，打印一条消息，将这些三明治都列出来。\n",
    "sandwich_orders = ['A','B','C']\n",
    "finished_sandwich = []\n",
    "while sandwich_orders:\n",
    "    confirm_sandwich = sandwich_orders.pop()\n",
    "    print('I made your ' + confirm_sandwich + \" sandwich\")\n",
    "    finished_sandwich.append(confirm_sandwich)\n",
    "print(finished_sandwich)"
   ]
  },
  {
   "cell_type": "code",
   "execution_count": 9,
   "metadata": {},
   "outputs": [
    {
     "name": "stdout",
     "output_type": "stream",
     "text": [
      "['A', 'B', 'C', 'pastrami', 'pastrami', 'pastrami']\n",
      "sorry, we've sold out of pastrami\n",
      "['A', 'B', 'C']\n"
     ]
    }
   ],
   "source": [
    "#7-9 使用7-8中所创建的列表sandwich_orders，并确保‘pastrami’在其中至少出现了三次。在程序开头添加这样的代码：打印一条消息，指出熟食店的五香牛肉卖完了；再使用一个while循环将列表sandwich_orders中的'pastrami'都删除。确认最终的列表finished_sandwichs中不包含'pastrami'\n",
    "sandwich_orders = ['A','B','C','pastrami','pastrami','pastrami']\n",
    "print(sandwich_orders)\n",
    "while 'pastrami' in sandwich_orders:\n",
    "    sandwich_orders.remove('pastrami')\n",
    "print(\"sorry, we've sold out of pastrami\")\n",
    "print(sandwich_orders)"
   ]
  },
  {
   "cell_type": "code",
   "execution_count": 15,
   "metadata": {},
   "outputs": [
    {
     "name": "stdout",
     "output_type": "stream",
     "text": [
      "What's your name ?lukai\n",
      "If you could visit one place in the world,where would you go ?shanghai\n",
      "Would you like to let another one respond ?wangxu\n",
      "What's your name ?beijing\n",
      "If you could visit one place in the world,where would you go ?no\n",
      "Would you like to let another one respond ?no\n",
      "------Poll Results-------\n",
      "Lukai want to go Shanghai\n",
      "Beijing want to go No\n"
     ]
    }
   ],
   "source": [
    "#7-10 编写一个程序，调查用户梦想的度假胜地。使用类似'If you could visit one place in the world,where would you go?'的提示，并编写一个打印调查结果的代码块\n",
    "responses = {}\n",
    "active = True\n",
    "while active:\n",
    "    name = input(\"What's your name ?\")\n",
    "    place = input(\"If you could visit one place in the world,where would you go ?\")\n",
    "\n",
    "    responses[name] = place\n",
    "    \n",
    "    repect = input(\"Would you like to let another one respond ?\")\n",
    "    if repect.lower() == \"no\":\n",
    "        active = False\n",
    "    \n",
    "print(\"------Poll Results-------\")\n",
    "for name,place in responses.items():\n",
    "    print(name.title() + \" want to go \" + place.title())"
   ]
  },
  {
   "cell_type": "code",
   "execution_count": null,
   "metadata": {},
   "outputs": [],
   "source": []
  }
 ],
 "metadata": {
  "kernelspec": {
   "display_name": "Python 3",
   "language": "python",
   "name": "python3"
  },
  "language_info": {
   "codemirror_mode": {
    "name": "ipython",
    "version": 3
   },
   "file_extension": ".py",
   "mimetype": "text/x-python",
   "name": "python",
   "nbconvert_exporter": "python",
   "pygments_lexer": "ipython3",
   "version": "3.7.1"
  }
 },
 "nbformat": 4,
 "nbformat_minor": 2
}
