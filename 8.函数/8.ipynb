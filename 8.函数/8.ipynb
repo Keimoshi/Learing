{
 "cells": [
  {
   "cell_type": "code",
   "execution_count": 4,
   "metadata": {},
   "outputs": [
    {
     "name": "stdout",
     "output_type": "stream",
     "text": [
      "The T-shirt size is XL , and we will make 'I Love China' on it\n",
      "The T-shirt size is XL , and we will make 'I Love China' on it\n"
     ]
    }
   ],
   "source": [
    "#8-3 编写一个名为make-shirt()的函数，它接受一个尺码以及要印到T恤上的字样。使用函数应打印一个句子，概要地说明T恤的尺码和字样。 使用位置实参调用这个函数来制作一件T恤；在使用关键字实参来调用这个函数\n",
    "def make_shirt(size,word):\n",
    "    print(\"The T-shirt size is %s , and we will make '%s' on it\" %(size,word) )\n",
    "    \n",
    "make_shirt(\"XL\",\"I Love China\")\n",
    "make_shirt(size=\"XL\",word=\"I Love China\")"
   ]
  },
  {
   "cell_type": "code",
   "execution_count": 5,
   "metadata": {},
   "outputs": [
    {
     "name": "stdout",
     "output_type": "stream",
     "text": [
      "The T-shirt size is XXL , and we will make 'I Love Python' on it\n",
      "The T-shirt size is XL , and we will make 'I Love Python' on it\n",
      "The T-shirt size is XXL , and we will make 'I Love China' on it\n"
     ]
    }
   ],
   "source": [
    "#8-4 修改函数make_shirt(),使其在默认情况下制作一件印有字样“I Love Python”的大号T恤。调用这个函数来制作如下T恤：一件印有默认字样的大号T恤、一件印有默认字样的中号T恤和一件印有其他字样的T恤（尺码无关紧要） \n",
    "def make_shirt(size=\"XXL\",word=\"I Love Python\"):\n",
    "    print(\"The T-shirt size is %s , and we will make '%s' on it\" %(size,word) )\n",
    "\n",
    "make_shirt()\n",
    "make_shirt(size=\"XL\")\n",
    "make_shirt(word=\"I Love China\")"
   ]
  },
  {
   "cell_type": "code",
   "execution_count": 13,
   "metadata": {},
   "outputs": [
    {
     "name": "stdout",
     "output_type": "stream",
     "text": [
      "('Shanghai', 'China')\n",
      "('Shenzhen', 'China')\n",
      "('Beijing', 'China')\n"
     ]
    }
   ],
   "source": [
    "#8-6 编写一个名为city_country()的函数，它接受城市的名称以及其所属的国家。这个函数应返回一个格式类似下面这样的字符串:\"Santiago,Chile\"至少使用三个城市-国家对调用这个函数，并打印它返回的值\n",
    "def city_country(city,country):\n",
    "    return(city,country)\n",
    "\n",
    "A = city_country(\"Shanghai\",\"China\")\n",
    "print(A)\n",
    "B = city_country(\"Shenzhen\",\"China\")\n",
    "print(B)\n",
    "C = city_country(\"Beijing\",\"China\")\n",
    "print(C)"
   ]
  },
  {
   "cell_type": "code",
   "execution_count": 55,
   "metadata": {},
   "outputs": [
    {
     "name": "stdout",
     "output_type": "stream",
     "text": [
      "{'singers': '薛之谦', 'albums': '绅士'}\n",
      "薛之谦有一张专辑叫做《初学者》 ,这张专辑里有10首歌曲。\n"
     ]
    }
   ],
   "source": [
    "#8-7 编写一个名为make_album()的函数，它创建一个描述音乐专辑的字典。这个函数应接受歌手的名字和专辑名，并返回一个包含两项信息的字典。使用这个函数创建三个表示不同专辑的字典，并打印每个返回的值，以核实字典正确地存储了专辑的信息。给函数make_album()添加一个可选形参，以便能够存储专辑包含的歌曲数。如果调用这个函数时指定了歌曲数，就将这个值添加到表示专辑的字典中。调用这个函数，并至少在一次调用中指定专辑包含的歌曲数。\n",
    "def make_album(person,album,num=''):\n",
    "    album_dict = {\n",
    "        \"singers\":person,\n",
    "        \"albums\":album,\n",
    "        }\n",
    "    if num:\n",
    "        album_dict[\"nums\"] = num\n",
    "        \n",
    "    return album_dict\n",
    "Laoxue_gentleman = make_album(person = \"薛之谦\" , album = \"绅士\")\n",
    "Laoxue_Chuxuezhe = make_album(person = \"薛之谦\" , album = \"初学者\" , num = \"10\")\n",
    "print(Laoxue_gentleman)\n",
    "print(\"%s有一张专辑叫做《%s》 ,这张专辑里有%s首歌曲。\" %(Laoxue_Chuxuezhe[\"singers\"],Laoxue_Chuxuezhe[\"albums\"],Laoxue_Chuxuezhe[\"nums\"])) "
   ]
  },
  {
   "cell_type": "code",
   "execution_count": 61,
   "metadata": {},
   "outputs": [
    {
     "name": "stdout",
     "output_type": "stream",
     "text": [
      "Which singer do you prefer ?薛之谦\n",
      "Which album of this singer do you prefer ?绅士\n",
      "You can quit for any time if you enter quit.quit\n",
      "薛之谦有一张专辑叫做《绅士》\n"
     ]
    }
   ],
   "source": [
    "#8-8 在为8-7而编写的程序中，编写一个while循环，让用户输入一个专辑的歌手和名称。获取这些信息后，使用它们来调用函数make_album()，并将创建的字典打印出来。在这个while循环中，务必要提供退出途径\n",
    "def make_album(person,album,num=''):\n",
    "    album_dict = {\n",
    "        \"singers\":person,\n",
    "        \"albums\":album,\n",
    "        }\n",
    "    if num:\n",
    "        album_dict[\"nums\"] = num\n",
    "    \n",
    "    return album_dict\n",
    "\n",
    "while True:\n",
    "    singers = input(\"Which singer do you prefer ?\")\n",
    "    album = input(\"Which album of this singer do you prefer ?\")\n",
    "    active = input(\"You can quit for any time if you enter quit.\")\n",
    "    \n",
    "    album_singer = make_album(person = singer,album = album)\n",
    "    \n",
    "    print(\"%s有一张专辑叫做《%s》\" %(album_singer[\"singers\"],album_singer[\"albums\"]))\n",
    "    if active == \"quit\":\n",
    "        break\n",
    "  "
   ]
  },
  {
   "cell_type": "code",
   "execution_count": 2,
   "metadata": {},
   "outputs": [
    {
     "name": "stdout",
     "output_type": "stream",
     "text": [
      "Welcome the magician 西里尔·高山 \n",
      "Welcome the magician 杰夫·麦克布莱德 \n",
      "Welcome the magician 刘谦 \n",
      "Welcome the magician Daryl Easton \n",
      "Welcome the magician 马克·威尔逊 \n",
      "Welcome the magician 布莱特．丹尼尔斯 \n",
      "Welcome the magician 迈克尔.艾马尔 \n",
      "Welcome the magician 大卫.布莱恩 \n",
      "Welcome the magician 大卫.科波菲尔 \n"
     ]
    }
   ],
   "source": [
    "#8-9 创建一个包含魔术师名字的列表，并将其传递给一个名为show_magicians()的函数，这个函数打印列表中每个魔术师的名字\n",
    "def show_magicians(names):\n",
    "    print(\"Welcome the magician %s \" %names)\n",
    "\n",
    "magicians = [\"西里尔·高山\",\"杰夫·麦克布莱德\",\"刘谦\",\"Daryl Easton\",\"马克·威尔逊\",\"布莱特．丹尼尔斯\",\"迈克尔.艾马尔\",\"大卫.布莱恩\",\"大卫.科波菲尔\"]\n",
    "\n",
    "for magician in magicians:\n",
    "    show_magicians(magician)"
   ]
  },
  {
   "cell_type": "code",
   "execution_count": 10,
   "metadata": {},
   "outputs": [
    {
     "name": "stdout",
     "output_type": "stream",
     "text": [
      "Welcome the magician the Great 西里尔·高山 \n",
      "Welcome the magician the Great 杰夫·麦克布莱德 \n",
      "Welcome the magician the Great 刘谦 \n",
      "Welcome the magician the Great Daryl Easton \n",
      "Welcome the magician the Great 马克·威尔逊 \n",
      "Welcome the magician the Great 布莱特．丹尼尔斯 \n",
      "Welcome the magician the Great 迈克尔.艾马尔 \n",
      "Welcome the magician the Great 大卫.布莱恩 \n",
      "Welcome the magician the Great 大卫.科波菲尔 \n"
     ]
    }
   ],
   "source": [
    "#8-10 编写一个make_great()函数，对魔术师列表进行修改，在每个魔术师的名字中都加入字样“the Great”。调用函数show_magicians()确认魔术师列表确实变了。\n",
    "\n",
    "def make_great(names):\n",
    "    names = \"the Great \" + names\n",
    "    return names\n",
    "\n",
    "def show_magicians(names):\n",
    "    print(\"Welcome the magician %s \" %names)\n",
    "\n",
    "magicians = [\"西里尔·高山\",\"杰夫·麦克布莱德\",\"刘谦\",\"Daryl Easton\",\"马克·威尔逊\",\"布莱特．丹尼尔斯\",\"迈克尔.艾马尔\",\"大卫.布莱恩\",\"大卫.科波菲尔\"]\n",
    "great_magicians = []\n",
    "\n",
    "for magician in magicians :\n",
    "    great_magician = make_great(magician)\n",
    "    great_magicians.append(great_magician)\n",
    "\n",
    "for magician in great_magicians:\n",
    "    show_magicians(magician)\n",
    "    \n"
   ]
  },
  {
   "cell_type": "code",
   "execution_count": 12,
   "metadata": {},
   "outputs": [
    {
     "name": "stdout",
     "output_type": "stream",
     "text": [
      "大卫.科波菲尔\n",
      "大卫.布莱恩\n",
      "迈克尔.艾马尔\n",
      "布莱特．丹尼尔斯\n",
      "马克·威尔逊\n",
      "Daryl Easton\n",
      "刘谦\n",
      "杰夫·麦克布莱德\n",
      "西里尔·高山\n"
     ]
    }
   ],
   "source": [
    "#8-9 拓展，使用教材中的方法， 使用列表本身的方法pop()和append().原题：创建一个包含魔术师名字的列表，并将其传递给一个名为show_magicians()的函数，这个函数打印列表中每个魔术师的名字\n",
    "\n",
    "def show_magicians(magicians_list):\n",
    "    while magicians_list:\n",
    "        magician = magicians_list.pop()\n",
    "        print(magician)\n",
    "\n",
    "magicians = [\"西里尔·高山\",\"杰夫·麦克布莱德\",\"刘谦\",\"Daryl Easton\",\"马克·威尔逊\",\"布莱特．丹尼尔斯\",\"迈克尔.艾马尔\",\"大卫.布莱恩\",\"大卫.科波菲尔\"]\n",
    "show_magicians(magicians)"
   ]
  },
  {
   "cell_type": "code",
   "execution_count": 18,
   "metadata": {},
   "outputs": [
    {
     "name": "stdout",
     "output_type": "stream",
     "text": [
      "The Great Magician 西里尔·高山\n",
      "The Great Magician 杰夫·麦克布莱德\n",
      "The Great Magician 刘谦\n",
      "The Great Magician Daryl Easton\n",
      "The Great Magician 马克·威尔逊\n",
      "The Great Magician 布莱特．丹尼尔斯\n",
      "The Great Magician 迈克尔.艾马尔\n",
      "The Great Magician 大卫.布莱恩\n",
      "The Great Magician 大卫.科波菲尔\n"
     ]
    }
   ],
   "source": [
    "#8-10 拓展 ，使用教材中的方法。原题：编写一个make_great()函数，对魔术师列表进行修改，在每个魔术师的名字中都加入字样“the Great”。调用函数show_magicians()确认魔术师列表确实变了。\n",
    "\n",
    "def make_great(magicians,great_magicians):\n",
    "    while magicians:\n",
    "        magician = magicians.pop()\n",
    "        great_magicians.append(\"The Great Magician \" + magician)\n",
    "    return great_magicians\n",
    "\n",
    "def show_magicians(great_magicians):\n",
    "    while great_magicians:\n",
    "        magician = great_magicians.pop()\n",
    "        print(magician)\n",
    "        \n",
    "magicians = [\"西里尔·高山\",\"杰夫·麦克布莱德\",\"刘谦\",\"Daryl Easton\",\"马克·威尔逊\",\"布莱特．丹尼尔斯\",\"迈克尔.艾马尔\",\"大卫.布莱恩\",\"大卫.科波菲尔\"]\n",
    "great_magicians = []\n",
    "\n",
    "make_great(magicians,great_magicians)\n",
    "show_magicians(great_magicians)\n",
    "\n"
   ]
  },
  {
   "cell_type": "code",
   "execution_count": 19,
   "metadata": {},
   "outputs": [
    {
     "name": "stdout",
     "output_type": "stream",
     "text": [
      "The Great Magician 西里尔·高山\n",
      "The Great Magician 杰夫·麦克布莱德\n",
      "The Great Magician 刘谦\n",
      "The Great Magician Daryl Easton\n",
      "The Great Magician 马克·威尔逊\n",
      "The Great Magician 布莱特．丹尼尔斯\n",
      "The Great Magician 迈克尔.艾马尔\n",
      "The Great Magician 大卫.布莱恩\n",
      "The Great Magician 大卫.科波菲尔\n",
      "大卫.科波菲尔\n",
      "大卫.布莱恩\n",
      "迈克尔.艾马尔\n",
      "布莱特．丹尼尔斯\n",
      "马克·威尔逊\n",
      "Daryl Easton\n",
      "刘谦\n",
      "杰夫·麦克布莱德\n",
      "西里尔·高山\n"
     ]
    }
   ],
   "source": [
    "#8-11 修改8-10的程序，在调用函数make_great（）时，向它传递魔术师列表的副本。由于不想修改原始列表，请返回修改后的列表，并将其存储到另一个列表中。分别使用这两个列表来调用show_magicians(),确认一个列表包含的是原来的魔术师名字，而另一个列表包含的是添加了字样“The Great Magician ”的魔术师名字\n",
    "def make_great(magicians,great_magicians):\n",
    "    while magicians:\n",
    "        magician = magicians.pop()\n",
    "        great_magicians.append(\"The Great Magician \" + magician)\n",
    "    return great_magicians\n",
    "\n",
    "def show_magicians(great_magicians):\n",
    "    while great_magicians:\n",
    "        magician = great_magicians.pop()\n",
    "        print(magician)\n",
    "        \n",
    "\n",
    "magicians = [\"西里尔·高山\",\"杰夫·麦克布莱德\",\"刘谦\",\"Daryl Easton\",\"马克·威尔逊\",\"布莱特．丹尼尔斯\",\"迈克尔.艾马尔\",\"大卫.布莱恩\",\"大卫.科波菲尔\"]\n",
    "great_magicians = []\n",
    "        \n",
    "#在调用make_great函数的时候，调入的实参是magicians的副本，也就是magicians[:]。这样子的话，就不影响源列表        \n",
    "make_great(magicians[:],great_magicians)\n",
    "show_magicians(great_magicians)\n",
    "show_magicians(magicians)"
   ]
  },
  {
   "cell_type": "code",
   "execution_count": 26,
   "metadata": {},
   "outputs": [
    {
     "name": "stdout",
     "output_type": "stream",
     "text": [
      "Makeing sandwich  with following toppings:\n",
      "mushroom\n",
      "Makeing sandwich  with following toppings:\n",
      "mushroom\n",
      "green peppers\n",
      "onion\n"
     ]
    }
   ],
   "source": [
    "#8-12 编写一个函数，它接受顾客要在三明治中添加的一系列食材 。这个函数只有一个形参（它收集函数调用中提供的所有食材）。并打印一条消息，对顾客点的三明治进行概述。调用这个函数三次，每次都提供不同数量的实参。\n",
    "def sandwich_topping(*toppings):\n",
    "    print(\"Makeing sandwich  with following toppings:\" )\n",
    "    for topping in toppings:\n",
    "        print(topping)\n",
    "        \n",
    "sandwich_topping(\"mushroom\")\n",
    "sandwich_topping(\"mushroom\",\"green peppers\",\"onion\")"
   ]
  },
  {
   "cell_type": "code",
   "execution_count": 32,
   "metadata": {},
   "outputs": [
    {
     "name": "stdout",
     "output_type": "stream",
     "text": [
      "{'first_name': 'Lu', 'last_name': 'kai', 'location': 'Shanghai', 'age': 24}\n"
     ]
    }
   ],
   "source": [
    "#8-13 复制程序user_profile.py，在其中调用build_profile()来创建有关你的简介；调用这个函数时，指定你的名和姓，以及三个描述你的键值对。\n",
    "def user_profile(first,last,**user_info):\n",
    "    profile = {}\n",
    "    profile[\"first_name\"] = first\n",
    "    profile[\"last_name\"] = last\n",
    "    for key,value in user_info.items():\n",
    "        profile[key] = value\n",
    "    return profile\n",
    "\n",
    "user_info = user_profile(\"Lu\",last = \"kai\",location=\"Shanghai\",age=24)\n",
    "print(user_info)"
   ]
  },
  {
   "cell_type": "code",
   "execution_count": 36,
   "metadata": {},
   "outputs": [
    {
     "name": "stdout",
     "output_type": "stream",
     "text": [
      "{'maker': 'subaru', 'verson': 'outback', 'clolr': 'blue', 'tow_package': 'Ture'}\n"
     ]
    }
   ],
   "source": [
    "#8-14 编写一个函数，将汽车的信息存储在一个字典中。这个函数总是接受制造商和型号，还接受任意数量的关键字实参。这个函数必须能够像下面这样进行调用 car = make_car('subaru','outback',clolr='blue',tow_package=Ture)\n",
    "def car_info(maker,verson,**other_info):\n",
    "    info={}\n",
    "    info[\"maker\"] = maker\n",
    "    info[\"verson\"] = verson\n",
    "    for key,value in other_info.items():\n",
    "        info[key] = value\n",
    "    return info\n",
    "\n",
    "car = car_info('subaru','outback',clolr='blue',tow_package=\"Ture\")\n",
    "print(car)"
   ]
  },
  {
   "cell_type": "code",
   "execution_count": 60,
   "metadata": {},
   "outputs": [
    {
     "name": "stdout",
     "output_type": "stream",
     "text": [
      "Makeing sandwichsss  with following toppings:\n",
      "mushroom\n",
      "The Great Magician 布莱特．丹尼尔斯\n",
      "The Great Magician 迈克尔.艾马尔\n",
      "The Great Magician 大卫.布莱恩\n",
      "The Great Magician 大卫.科波菲尔\n"
     ]
    }
   ],
   "source": [
    "#模块调用\n",
    "import sandwichss\n",
    "\n",
    "sandwichss.sandwich_topping(\"mushroom\")\n",
    "\n",
    "#\n",
    "from magiciansss import make_great\n",
    "from magiciansss import show_magicians\n",
    "magicians = [\"布莱特．丹尼尔斯\",\"迈克尔.艾马尔\",\"大卫.布莱恩\",\"大卫.科波菲尔\"]\n",
    "great_magicians = []\n",
    "make_great(magicians,great_magicians)\n",
    "show_magicians(great_magicians)"
   ]
  },
  {
   "cell_type": "code",
   "execution_count": null,
   "metadata": {},
   "outputs": [],
   "source": []
  }
 ],
 "metadata": {
  "kernelspec": {
   "display_name": "Python 3",
   "language": "python",
   "name": "python3"
  },
  "language_info": {
   "codemirror_mode": {
    "name": "ipython",
    "version": 3
   },
   "file_extension": ".py",
   "mimetype": "text/x-python",
   "name": "python",
   "nbconvert_exporter": "python",
   "pygments_lexer": "ipython3",
   "version": "3.7.1"
  }
 },
 "nbformat": 4,
 "nbformat_minor": 2
}
