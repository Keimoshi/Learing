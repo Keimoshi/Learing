{
 "cells": [
  {
   "cell_type": "code",
   "execution_count": null,
   "metadata": {},
   "outputs": [],
   "source": [
    "#6-1  使用一个字典来存储一个熟人的信息，包括名，姓，年龄和居住的城市。并将每项信息都打印出来\n",
    "name_info = {\n",
    "    '姓':'wang',\n",
    "    '名':'xu',\n",
    "    'age':'23',\n",
    "    'city':'Hefei',\n",
    "    }\n",
    "print(name_info)"
   ]
  },
  {
   "cell_type": "code",
   "execution_count": null,
   "metadata": {},
   "outputs": [],
   "source": [
    "#6-6 词汇表：想出来5个词汇，将他们用作词汇表中的键，并将他们的含义作为值存储在词汇表中。\n",
    "vocabulary = {\n",
    "    'preserve':'保鲜、保存、保护',\n",
    "    'wicked':'邪恶的；恶劣的；不道德的',\n",
    "    'lifetime':'一生的，终生的',\n",
    "    'transition':'翻译',\n",
    "    'resemble':'类似，像',\n",
    "    }\n",
    "for word,translate in vocabulary.items():\n",
    "    print(\"The \" + word.title() + \" meaning \" + translate\n",
    "    )"
   ]
  },
  {
   "cell_type": "code",
   "execution_count": 9,
   "metadata": {},
   "outputs": [
    {
     "name": "stdout",
     "output_type": "stream",
     "text": [
      "{'first': 'wang', 'last': 'xu', 'location': 'hefei'}\n",
      "{'first': 'guo', 'last': 'hua', 'location': 'nanjing'}\n",
      "{'first': 'fu', 'last': 'yu', 'location': 'shanghai'}\n"
     ]
    }
   ],
   "source": [
    "#6-7 在完成6-1而编写的程序中，再创建两个表示人的字典，然后将三个字典都存储在一个名为people的列表中。遍历这个列表，将其中每个人的所有信息都打印出来\n",
    "people = []\n",
    "name_info1 = {\n",
    "    'first':'wang',\n",
    "    'last':'xu',\n",
    "    'location':'hefei',\n",
    "    }\n",
    "name_info2 = {\n",
    "    'first':'guo',\n",
    "    'last':'hua',\n",
    "    'location':'nanjing',\n",
    "    }\n",
    "name_info3 = {\n",
    "    'first':'fu',\n",
    "    'last':'yu',\n",
    "    'location':'shanghai',\n",
    "    }\n",
    "people = [name_info1, name_info2, name_info3]\n",
    "for i in people:\n",
    "    print(i)"
   ]
  },
  {
   "cell_type": "code",
   "execution_count": 10,
   "metadata": {},
   "outputs": [
    {
     "name": "stdout",
     "output_type": "stream",
     "text": [
      "{'type': 'cat', 'master': 'daming'}\n",
      "{'type': 'dog', 'master': 'dahong'}\n",
      "{'type': 'pig', 'master': 'dahei'}\n",
      "{'type': 'bird', 'master': 'dabai'}\n"
     ]
    }
   ],
   "source": [
    "#6-8 创建多个字典，对于每个字典，都使用一个宠物的名称来给他命名；在每个字典中，包含宠物的类型以及其主人的名字。将这些字典存储在一个名为pets的列表中，在遍历该列表，将宠物的所有信息打印出来。\n",
    "xiaoming = {\n",
    "    'type':'cat',\n",
    "    'master':'daming',\n",
    "    }\n",
    "xiaohong = {\n",
    "    'type':'dog',\n",
    "    'master':'dahong',\n",
    "    }\n",
    "xiaohei = {\n",
    "    'type':'pig',\n",
    "    'master':'dahei',\n",
    "    }\n",
    "xiaobai = {\n",
    "    'type':'bird',\n",
    "    'master':'dabai',\n",
    "    }\n",
    "pets = [xiaoming, xiaohong, xiaohei, xiaobai]\n",
    "for pet in pets:\n",
    "    print(pet)"
   ]
  },
  {
   "cell_type": "code",
   "execution_count": 16,
   "metadata": {},
   "outputs": [
    {
     "name": "stdout",
     "output_type": "stream",
     "text": [
      "xiaoming is a cat and his master is daming\n",
      "xiaohong is a dog and his master is dahong\n",
      "xiaohei is a pig and his master is dahei\n",
      "xiaobai is a bird and his master is dabai\n"
     ]
    }
   ],
   "source": [
    "#6-8 拓展 ，创建多个字典，对于每个字典，都使用一个宠物的名称来给他命名；在每个字典中，包含宠物的类型以及其主人的名字。将这些字典存储在一个名为pets的字典中，在遍历该列表，将宠物的所有信息打印出来。\n",
    "xiaoming = {\n",
    "    'types':'cat',\n",
    "    'master':'daming',\n",
    "    }\n",
    "xiaohong = {\n",
    "    'types':'dog',\n",
    "    'master':'dahong',\n",
    "    }\n",
    "xiaohei = {\n",
    "    'types':'pig',\n",
    "    'master':'dahei',\n",
    "    }\n",
    "xiaobai = {\n",
    "    'types':'bird',\n",
    "    'master':'dabai',\n",
    "    }\n",
    "pets = {\n",
    "    'xiaoming':xiaoming,\n",
    "    'xiaohong':xiaohong,\n",
    "    'xiaohei':xiaohei,\n",
    "    'xiaobai':xiaobai,\n",
    "    }\n",
    "for pet,info in pets.items():\n",
    "    print(pet + ' is a ' + info['types'] + ' and his master is ' + info['master'])"
   ]
  },
  {
   "cell_type": "code",
   "execution_count": null,
   "metadata": {},
   "outputs": [],
   "source": []
  }
 ],
 "metadata": {
  "kernelspec": {
   "display_name": "Python 3",
   "language": "python",
   "name": "python3"
  },
  "language_info": {
   "codemirror_mode": {
    "name": "ipython",
    "version": 3
   },
   "file_extension": ".py",
   "mimetype": "text/x-python",
   "name": "python",
   "nbconvert_exporter": "python",
   "pygments_lexer": "ipython3",
   "version": "3.7.1"
  }
 },
 "nbformat": 4,
 "nbformat_minor": 2
}
