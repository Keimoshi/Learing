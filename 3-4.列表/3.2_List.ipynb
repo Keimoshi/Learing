{
 "cells": [
  {
   "cell_type": "code",
   "execution_count": 33,
   "metadata": {},
   "outputs": [
    {
     "name": "stdout",
     "output_type": "stream",
     "text": [
      "Hello,lukai. Would you like to my brithday party ?\n",
      "Hello,wuxiao. Would you like to my brithday party ?\n",
      "Hello,liuliang. Would you like to my brithday party ?\n",
      "I'm regret to hear wuxiao can't come here because of something really important to him\n",
      "The new invited list is ['lukai', 'liuliang', 'guohua'] \n",
      "People have some chaged ,zhaoli will be invited to my party\n",
      "The new invited list is ['lukai', 'zhaoli', 'liuliang', 'guohua'] \n",
      "The new invited list is ['lukai', 'zhaoli', 'liuliang', 'guohua', 'zhuyi'] \n",
      "Hello,lukai. Would you like to my brithday party ?\n",
      "Hello,zhaoli. Would you like to my brithday party ?\n",
      "Hello,liuliang. Would you like to my brithday party ?\n",
      "Hello,guohua. Would you like to my brithday party ?\n",
      "Hello,zhuyi. Would you like to my brithday party ?\n",
      "I have a bad news . I just can invited some person to my party because of the bigger desk can't arrived on time\n",
      "I'm regret to hear zhaoli can't come here because of something really important to him\n",
      "I'm regret to hear zhuyi can't come here because of something really important to him\n",
      "I'm regret to hear liuliang can't come here because of something really important to him\n",
      "['lukai', 'guohua']\n"
     ]
    }
   ],
   "source": [
    "name_invited = ['lukai', 'wuxiao' , 'liuliang']\n",
    "def invited():\n",
    "    for index in range(len(name_invited)):\n",
    "        print(\"Hello,\" + name_invited[index] + \". Would you like to my brithday party ?\")\n",
    "def goodbye(people_left):\n",
    "    for i in people_left:\n",
    "        index_people_left = name_invited.index(i)\n",
    "        print(\"I'm regret to hear \" + name_invited.pop(index_people_left) + \" can't come here because of something really important to him\")\n",
    "\n",
    "def append_add(people_new):\n",
    "#遍历用户列表people_new,再将列表里的用户逐个加入到邀请列表中\n",
    "    for i in people_new:\n",
    "        name_invited.append(i)\n",
    "    print(\"The new invited list is %s \" %name_invited)\n",
    "\n",
    "def add_middle(name):\n",
    "    middle_length = len(name_invited)%2\n",
    "#    print(middle_length)\n",
    "    name_invited.insert(middle_length,name)\n",
    "    print(\"People have some chaged ,%s will be invited to my party\" %name)\n",
    "    print(\"The new invited list is %s \" %name_invited)\n",
    "    \n",
    "invited()\n",
    "goodbye([\"wuxiao\"])\n",
    "name_add = [\"guohua\"]\n",
    "append_add(name_add)\n",
    "add_middle(\"zhaoli\")\n",
    "append_add([\"zhuyi\"])\n",
    "invited()\n",
    "print(\"I have a bad news . I just can invited some person to my party because of the bigger desk can't arrived on time\")\n",
    "goodbye([\"zhaoli\",\"zhuyi\",\"liuliang\"])\n",
    "print(name_invited)\n",
    "#想偷懒又没偷懒成功的典型"
   ]
  },
  {
   "cell_type": "code",
   "execution_count": null,
   "metadata": {},
   "outputs": [],
   "source": []
  }
 ],
 "metadata": {
  "kernelspec": {
   "display_name": "Python 3",
   "language": "python",
   "name": "python3"
  },
  "language_info": {
   "codemirror_mode": {
    "name": "ipython",
    "version": 3
   },
   "file_extension": ".py",
   "mimetype": "text/x-python",
   "name": "python",
   "nbconvert_exporter": "python",
   "pygments_lexer": "ipython3",
   "version": "3.7.1"
  }
 },
 "nbformat": 4,
 "nbformat_minor": 2
}
