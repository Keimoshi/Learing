{
 "cells": [
  {
   "cell_type": "code",
   "execution_count": 2,
   "metadata": {},
   "outputs": [
    {
     "name": "stdout",
     "output_type": "stream",
     "text": [
      "Hello David,thannk you for logging in aagain\n",
      "Hello admin,would you like to see a status report?\n",
      "Hello Erice,thannk you for logging in aagain\n",
      "Hello Jack,thannk you for logging in aagain\n",
      "Hello Joy,thannk you for logging in aagain\n",
      "Hello Karis,thannk you for logging in aagain\n"
     ]
    }
   ],
   "source": [
    "#5-8 创建一个至少包含5个用户的用户列表，其中需要包含admin。在admin登录之后打印“Hello admin,would you like to see a status report?”。其他用户则发送普通消息\"Hello user,thannk you for logging in aagain.\"\n",
    "user_list = [\"David\",\"admin\",\"Erice\",\"Jack\",\"Joy\",\"Karis\"]\n",
    "for user in user_list:\n",
    "    if user == \"admin\":\n",
    "        print(\"Hello admin,would you like to see a status report?\")\n",
    "    else:\n",
    "        print(\"Hello %s,thannk you for logging in aagain\" %user)"
   ]
  },
  {
   "cell_type": "code",
   "execution_count": 4,
   "metadata": {},
   "outputs": [
    {
     "name": "stdout",
     "output_type": "stream",
     "text": [
      "We need find some users!\n"
     ]
    }
   ],
   "source": [
    "#5-9 基于5-8实验，添加一个判断语句，检查列表是否未空。 如果是空，则打印\"We need find some users!\" .\n",
    "user_list = []\n",
    "if user_list == []:\n",
    "    print(\"We need to find some users!\")\n",
    "else:\n",
    "    for user in user_list:\n",
    "        if user == \"admin\":\n",
    "            print(\"Hello admin,would you like to see a status report?\")\n",
    "        else:\n",
    "            print(\"Hello %s,thannk you for logging in aagain\" %user)"
   ]
  },
  {
   "cell_type": "code",
   "execution_count": 13,
   "metadata": {},
   "outputs": [
    {
     "name": "stdout",
     "output_type": "stream",
     "text": [
      "The name have in used ,you need try anther one\n",
      "Congratulations , You can use the name!\n",
      "Congratulations , You can use the name!\n",
      "The name have in used ,you need try anther one\n",
      "The name have in used ,you need try anther one\n",
      "Congratulations , You can use the name!\n"
     ]
    }
   ],
   "source": [
    "#5-10 创建一个至少包含5个用户的列表，将其命名为current_user ；再创建一个包含至少5个用户的列表，命令为new_user，并确保其中个别用户也包含在current_users。遍历列表new_users，对于其中的每个用户名，都检查他是否已用。如果是则打印一条信息指出需要输入别的用户名；否则打印一条信息，指出这个用户未被使用。\n",
    "current_users = [\"david\",\"sir\",\"erice\",\"jack\",\"joy\",\"karis\"]\n",
    "new_users = [\"David\",\"Eveln\",\"Salen\",\"Jack\",\"Joy\",\"Weston\"]\n",
    "for user in new_users:\n",
    "    if user.lower() in current_users:\n",
    "        print(\"The name have in used ,you need try anther one\")\n",
    "    else:\n",
    "        print(\"Congratulations , You can use the name!\")"
   ]
  },
  {
   "cell_type": "code",
   "execution_count": 17,
   "metadata": {},
   "outputs": [
    {
     "name": "stdout",
     "output_type": "stream",
     "text": [
      "1st\n",
      "2nd\n",
      "3rd\n",
      "4th\n",
      "5th\n",
      "6th\n",
      "7th\n",
      "8th\n",
      "9th\n"
     ]
    }
   ],
   "source": [
    "#5-11 序数表示 ， 将数字1-10用序号进行标识\n",
    "for i in range(1,10):\n",
    "    if i == 1:\n",
    "        print(\"1st\")\n",
    "    elif i == 2:\n",
    "        print(\"2nd\")\n",
    "    elif i == 3:\n",
    "        print(\"3rd\")\n",
    "    else:\n",
    "        print(str(i) + \"th\")\n"
   ]
  },
  {
   "cell_type": "code",
   "execution_count": null,
   "metadata": {},
   "outputs": [],
   "source": []
  }
 ],
 "metadata": {
  "kernelspec": {
   "display_name": "Python 3",
   "language": "python",
   "name": "python3"
  },
  "language_info": {
   "codemirror_mode": {
    "name": "ipython",
    "version": 3
   },
   "file_extension": ".py",
   "mimetype": "text/x-python",
   "name": "python",
   "nbconvert_exporter": "python",
   "pygments_lexer": "ipython3",
   "version": "3.7.1"
  }
 },
 "nbformat": 4,
 "nbformat_minor": 2
}
