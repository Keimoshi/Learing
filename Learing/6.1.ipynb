{
 "cells": [
  {
   "cell_type": "code",
   "execution_count": 4,
   "metadata": {},
   "outputs": [
    {
     "name": "stdout",
     "output_type": "stream",
     "text": [
      "{'姓': 'wang', '名': 'xu', 'age': '23', 'city': 'Hefei'}\n"
     ]
    }
   ],
   "source": [
    "#6-1  使用一个字典来存储一个熟人的信息，包括名，姓，年龄和居住的城市。并将每项信息都打印出来\n",
    "name_info = {\n",
    "    '姓':'wang',\n",
    "    '名':'xu',\n",
    "    'age':'23',\n",
    "    'city':'Hefei',\n",
    "    }\n",
    "print(name_info)"
   ]
  },
  {
   "cell_type": "code",
   "execution_count": 14,
   "metadata": {},
   "outputs": [
    {
     "name": "stdout",
     "output_type": "stream",
     "text": [
      "The Preserve meaning 保鲜、保存、保护\n",
      "The Wicked meaning 邪恶的；恶劣的；不道德的\n",
      "The Lifetime meaning 一生的，终生的\n",
      "The Transition meaning 翻译\n",
      "The Resemble meaning 类似，像\n"
     ]
    }
   ],
   "source": [
    "#6-6 词汇表：想出来5个词汇，将他们用作词汇表中的键，并将他们的含义作为值存储在词汇表中。\n",
    "vocabulary = {\n",
    "    'preserve':'保鲜、保存、保护',\n",
    "    'wicked':'邪恶的；恶劣的；不道德的',\n",
    "    'lifetime':'一生的，终生的',\n",
    "    'transition':'翻译',\n",
    "    'resemble':'类似，像',\n",
    "    }\n",
    "for word,translate in vocabulary.items():\n",
    "    print(\"The \" + word.title() + \" meaning \" + translate\n",
    "    )"
   ]
  },
  {
   "cell_type": "code",
   "execution_count": null,
   "metadata": {},
   "outputs": [],
   "source": []
  }
 ],
 "metadata": {
  "kernelspec": {
   "display_name": "Python 3",
   "language": "python",
   "name": "python3"
  },
  "language_info": {
   "codemirror_mode": {
    "name": "ipython",
    "version": 3
   },
   "file_extension": ".py",
   "mimetype": "text/x-python",
   "name": "python",
   "nbconvert_exporter": "python",
   "pygments_lexer": "ipython3",
   "version": "3.7.1"
  }
 },
 "nbformat": 4,
 "nbformat_minor": 2
}
